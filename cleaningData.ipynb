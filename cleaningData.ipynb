{
  "nbformat": 4,
  "nbformat_minor": 0,
  "metadata": {
    "colab": {
      "provenance": [],
      "authorship_tag": "ABX9TyM+a0olgAXaJnb7TRKGRTYU",
      "include_colab_link": true
    },
    "kernelspec": {
      "name": "python3",
      "display_name": "Python 3"
    },
    "language_info": {
      "name": "python"
    }
  },
  "cells": [
    {
      "cell_type": "markdown",
      "metadata": {
        "id": "view-in-github",
        "colab_type": "text"
      },
      "source": [
        "<a href=\"https://colab.research.google.com/github/Afreenfati/fictional-computing-machine/blob/main/cleaningData.ipynb\" target=\"_parent\"><img src=\"https://colab.research.google.com/assets/colab-badge.svg\" alt=\"Open In Colab\"/></a>"
      ]
    },
    {
      "cell_type": "code",
      "source": [
        "import pandas as pd\n",
        "\n",
        "# Load your dataset (replace 'your_file.csv' with the actual file path)\n",
        "df = pd.read_csv('/content/australia_cleaned_data (1).csv')\n",
        "\n",
        "# Get column names\n",
        "column_names = list(df.columns)\n",
        "print(column_names)\n"
      ],
      "metadata": {
        "colab": {
          "base_uri": "https://localhost:8080/"
        },
        "id": "3K2jwHrzvBaO",
        "outputId": "e8d5d0dc-31fd-47ec-c115-b5cc3e2d00f1"
      },
      "execution_count": 16,
      "outputs": [
        {
          "output_type": "stream",
          "name": "stdout",
          "text": [
            "['Channel Name', 'Channel ID', '#', 'FOLLOWERS', 'ER', 'COUNTRY', 'TOPIC OF INFLUENCE', 'POTENTIAL REACH']\n"
          ]
        }
      ]
    },
    {
      "cell_type": "code",
      "execution_count": 22,
      "metadata": {
        "colab": {
          "base_uri": "https://localhost:8080/"
        },
        "id": "SUQWWaw7uOCA",
        "outputId": "e21277d7-05fe-4423-df2b-4025e77cc37e"
      },
      "outputs": [
        {
          "output_type": "stream",
          "name": "stdout",
          "text": [
            "Missing values in essential fields:\n",
            " Channel Name           0\n",
            "Channel ID             0\n",
            "#                      0\n",
            "FOLLOWERS              0\n",
            "ER                    63\n",
            "COUNTRY                0\n",
            "TOPIC OF INFLUENCE     3\n",
            "POTENTIAL REACH       63\n",
            "dtype: int64\n"
          ]
        }
      ],
      "source": [
        "import pandas as pd\n",
        "\n",
        "file_path = 'australia_cleaned_data (1).csv'\n",
        "df = pd.read_csv(file_path)\n",
        "\n",
        "# Check for missing values in essential fields\n",
        "essential_fields = ['Channel Name', 'Channel ID', '#', 'FOLLOWERS', 'ER', 'COUNTRY', 'TOPIC OF INFLUENCE', 'POTENTIAL REACH']  # Replace with actual column names\n",
        "missing_values = df[essential_fields].isnull().sum()\n",
        "\n",
        "# Print the missing values summary\n",
        "print(\"Missing values in essential fields:\\n\", missing_values)\n"
      ]
    },
    {
      "cell_type": "code",
      "source": [
        "import pandas as pd\n",
        "\n",
        "# Load your dataset (replace 'your_file.csv' with the actual file path)\n",
        "file_path = 'australia_cleaned_data (1).csv'\n",
        "df = pd.read_csv(file_path)\n",
        "\n",
        "# Impute missing values for 'ER' and 'POTENTIAL REACH' using mean\n",
        "df['ER'].fillna(df['ER'].mean(), inplace=True)\n",
        "df['POTENTIAL REACH'].fillna(df['POTENTIAL REACH'].mean(), inplace=True)\n",
        "\n",
        "# Calculate 'ER' based on 'FOLLOWERS' and 'POTENTIAL REACH'\n",
        "df['ER'] = (df['FOLLOWERS'] / df['POTENTIAL REACH']) * 100\n",
        "\n",
        "# Impute missing values in 'TOPIC OF INFLUENCE' using mode\n",
        "df['TOPIC OF INFLUENCE'].fillna(df['TOPIC OF INFLUENCE'].mode()[0], inplace=True)\n",
        "\n",
        "# Print the updated DataFrame\n",
        "print(df.head())\n"
      ],
      "metadata": {
        "colab": {
          "base_uri": "https://localhost:8080/"
        },
        "id": "CZH3lOmFuULD",
        "outputId": "fade2a6a-703f-4b0e-d8b3-4396e1b1fcbb"
      },
      "execution_count": 18,
      "outputs": [
        {
          "output_type": "stream",
          "name": "stdout",
          "text": [
            "      Channel Name      Channel ID  #   FOLLOWERS          ER    COUNTRY  \\\n",
            "0  Chris Hemsworth  chrishemsworth  1  58500000.0  334.285714  Australia   \n",
            "1     Hugh Jackman  thehughjackman  2  31900000.0  332.291667  Australia   \n",
            "2        Ruby Rose        rubyrose  3  22700000.0  333.823529  Australia   \n",
            "3     Miranda Kerr     mirandakerr  4  14600000.0  331.818182  Australia   \n",
            "4   Liam Hemsworth   liamhemsworth  5  12600000.0  331.578947  Australia   \n",
            "\n",
            "                                  TOPIC OF INFLUENCE  POTENTIAL REACH  \n",
            "0                                             Actors       17500000.0  \n",
            "1    Entertainment and Music Actors TV Host Modeling        9600000.0  \n",
            "2                                 Celebrity Modeling        6800000.0  \n",
            "3  Beauty and Self Care Fashion and Accessories B...        4400000.0  \n",
            "4                                        Actors Film        3800000.0  \n"
          ]
        }
      ]
    },
    {
      "cell_type": "code",
      "source": [
        "# Save the updated DataFrame to a CSV file\n",
        "df.to_csv('Australia_updated_data.csv', index=False)\n",
        "\n",
        "print(\"DataFrame saved to 'Australia_updated_data.csv'\")\n"
      ],
      "metadata": {
        "colab": {
          "base_uri": "https://localhost:8080/"
        },
        "id": "3vXN1CIKwikS",
        "outputId": "9bc1e142-33b7-4192-965a-c98afcb28fd7"
      },
      "execution_count": 19,
      "outputs": [
        {
          "output_type": "stream",
          "name": "stdout",
          "text": [
            "DataFrame saved to 'Australia_updated_data.csv'\n"
          ]
        }
      ]
    },
    {
      "cell_type": "code",
      "source": [
        "import pandas as pd\n",
        "\n",
        "# Load your dataset (replace 'your_file.csv' with the actual file path)\n",
        "df = pd.read_csv('/content/france_cleaned_data.csv')\n",
        "\n",
        "# Get column names\n",
        "column_names = list(df.columns)\n",
        "print(column_names)\n"
      ],
      "metadata": {
        "colab": {
          "base_uri": "https://localhost:8080/"
        },
        "id": "2uHmnq01wmwF",
        "outputId": "a1921f6c-1520-4f5b-89ef-c801886e792a"
      },
      "execution_count": 20,
      "outputs": [
        {
          "output_type": "stream",
          "name": "stdout",
          "text": [
            "['Channel Name', 'Channel ID', '#', 'FOLLOWERS', 'ER', 'COUNTRY', 'TOPIC OF INFLUENCE', 'POTENTIAL REACH']\n"
          ]
        }
      ]
    },
    {
      "cell_type": "code",
      "source": [
        "import pandas as pd\n",
        "\n",
        "file_path = '/content/france_cleaned_data.csv'\n",
        "df = pd.read_csv(file_path)\n",
        "\n",
        "# Check for missing values in essential fields\n",
        "essential_fields = ['Channel Name', 'Channel ID', '#', 'FOLLOWERS', 'ER', 'COUNTRY', 'TOPIC OF INFLUENCE', 'POTENTIAL REACH']  # Replace with actual column names\n",
        "missing_values = df[essential_fields].isnull().sum()\n",
        "\n",
        "# Print the missing values summary\n",
        "print(\"Missing values in essential fields:\\n\", missing_values)"
      ],
      "metadata": {
        "colab": {
          "base_uri": "https://localhost:8080/"
        },
        "id": "tTL6oWTZT2bM",
        "outputId": "fafea1cf-c167-4c0c-b94a-8e25c1cc9ec8"
      },
      "execution_count": 23,
      "outputs": [
        {
          "output_type": "stream",
          "name": "stdout",
          "text": [
            "Missing values in essential fields:\n",
            " Channel Name          0\n",
            "Channel ID            3\n",
            "#                     0\n",
            "FOLLOWERS             0\n",
            "ER                    0\n",
            "COUNTRY               0\n",
            "TOPIC OF INFLUENCE    1\n",
            "POTENTIAL REACH       0\n",
            "dtype: int64\n"
          ]
        }
      ]
    },
    {
      "cell_type": "code",
      "source": [
        "import pandas as pd\n",
        "\n",
        "# Load your dataset (replace 'your_file.csv' with the actual file path)\n",
        "file_path = '/content/france_cleaned_data.csv'\n",
        "df = pd.read_csv(file_path)\n",
        "\n",
        "# Impute missing values for 'ER' and 'POTENTIAL REACH' using mean\n",
        "df['ER'].fillna(df['ER'].mean(), inplace=True)\n",
        "df['POTENTIAL REACH'].fillna(df['POTENTIAL REACH'].mean(), inplace=True)\n",
        "\n",
        "# Calculate 'ER' based on 'FOLLOWERS' and 'POTENTIAL REACH'\n",
        "df['ER'] = (df['FOLLOWERS'] / df['POTENTIAL REACH']) * 100\n",
        "\n",
        "# Impute missing values in 'TOPIC OF INFLUENCE' using mode\n",
        "df['TOPIC OF INFLUENCE'].fillna(df['TOPIC OF INFLUENCE'].mode()[0], inplace=True)\n",
        "\n",
        "# Print the updated DataFrame\n",
        "print(df.head())\n"
      ],
      "metadata": {
        "colab": {
          "base_uri": "https://localhost:8080/"
        },
        "id": "WEi3XIekUFvk",
        "outputId": "e49bee71-48e2-41c6-cb83-bc80b5e2ad51"
      },
      "execution_count": 24,
      "outputs": [
        {
          "output_type": "stream",
          "name": "stdout",
          "text": [
            "        Channel Name      Channel ID  #    FOLLOWERS          ER COUNTRY  \\\n",
            "0     Kylian Mbappé        k.mbappe  1  111700000.0  333.432836  France   \n",
            "1      Karim Benzema    karimbenzema  2   76100000.0  333.771930  France   \n",
            "2    Urvashi Rautela  urvashirautela  3   70300000.0  333.175355  France   \n",
            "3  Paul Labile Pogba       paulpogba  4   61100000.0  333.879781  France   \n",
            "4  Antoine Griezmann   antogriezmann  5   41400000.0  333.870968  France   \n",
            "\n",
            "                                  TOPIC OF INFLUENCE  POTENTIAL REACH  \n",
            "0  Sports Business and Finance Home and Garden So...       33500000.0  \n",
            "1              Sports Entertainment and Music Soccer       22800000.0  \n",
            "2   Art Beauty Acting and Drama Beauty and Self Care       21100000.0  \n",
            "3                                             Sports       18300000.0  \n",
            "4                                      Sports Soccer       12400000.0  \n"
          ]
        }
      ]
    },
    {
      "cell_type": "code",
      "source": [
        "# Save the updated DataFrame to a CSV file\n",
        "df.to_csv('France_updated_data.csv', index=False)\n",
        "\n",
        "print(\"DataFrame saved to 'France_updated_data.csv'\")"
      ],
      "metadata": {
        "colab": {
          "base_uri": "https://localhost:8080/"
        },
        "id": "Z5q6iSyiUOty",
        "outputId": "65909b60-ca15-4922-ad3b-eaafbe4a4834"
      },
      "execution_count": 26,
      "outputs": [
        {
          "output_type": "stream",
          "name": "stdout",
          "text": [
            "DataFrame saved to 'France_updated_data.csv'\n"
          ]
        }
      ]
    },
    {
      "cell_type": "code",
      "source": [
        "import pandas as pd\n",
        "\n",
        "# Load your dataset (replace 'your_file.csv' with the actual file path)\n",
        "df = pd.read_csv('/content/germany_cleaned_data.csv')\n",
        "\n",
        "# Get column names\n",
        "column_names = list(df.columns)\n",
        "print(column_names)\n"
      ],
      "metadata": {
        "colab": {
          "base_uri": "https://localhost:8080/"
        },
        "id": "c1_ZsdKmUX1I",
        "outputId": "b6afa26e-5456-4e57-ffa8-0b47d0938060"
      },
      "execution_count": 27,
      "outputs": [
        {
          "output_type": "stream",
          "name": "stdout",
          "text": [
            "['Channel Name', 'Channel ID', '#', 'FOLLOWERS', 'ER', 'COUNTRY', 'TOPIC OF INFLUENCE', 'POTENTIAL REACH']\n"
          ]
        }
      ]
    },
    {
      "cell_type": "code",
      "source": [
        "import pandas as pd\n",
        "\n",
        "file_path = '/content/germany_cleaned_data.csv'\n",
        "df = pd.read_csv(file_path)\n",
        "\n",
        "# Check for missing values in essential fields\n",
        "essential_fields = ['Channel Name', 'Channel ID', '#', 'FOLLOWERS', 'ER', 'COUNTRY', 'TOPIC OF INFLUENCE', 'POTENTIAL REACH']  # Replace with actual column names\n",
        "missing_values = df[essential_fields].isnull().sum()\n",
        "\n",
        "# Print the missing values summary\n",
        "print(\"Missing values in essential fields:\\n\", missing_values)"
      ],
      "metadata": {
        "colab": {
          "base_uri": "https://localhost:8080/"
        },
        "id": "mmFIwqtoUmUz",
        "outputId": "d84b6058-a5cd-4a54-8028-c647cfd47a68"
      },
      "execution_count": 28,
      "outputs": [
        {
          "output_type": "stream",
          "name": "stdout",
          "text": [
            "Missing values in essential fields:\n",
            " Channel Name           0\n",
            "Channel ID             0\n",
            "#                      0\n",
            "FOLLOWERS              0\n",
            "ER                    59\n",
            "COUNTRY                0\n",
            "TOPIC OF INFLUENCE     5\n",
            "POTENTIAL REACH       59\n",
            "dtype: int64\n"
          ]
        }
      ]
    },
    {
      "cell_type": "code",
      "source": [
        "import pandas as pd\n",
        "\n",
        "# Load your dataset (replace 'your_file.csv' with the actual file path)\n",
        "file_path = '/content/germany_cleaned_data.csv'\n",
        "df = pd.read_csv(file_path)\n",
        "\n",
        "# Impute missing values for 'ER' and 'POTENTIAL REACH' using mean\n",
        "df['ER'].fillna(df['ER'].mean(), inplace=True)\n",
        "df['POTENTIAL REACH'].fillna(df['POTENTIAL REACH'].mean(), inplace=True)\n",
        "\n",
        "# Calculate 'ER' based on 'FOLLOWERS' and 'POTENTIAL REACH'\n",
        "df['ER'] = (df['FOLLOWERS'] / df['POTENTIAL REACH']) * 100\n",
        "\n",
        "# Impute missing values in 'TOPIC OF INFLUENCE' using mode\n",
        "df['TOPIC OF INFLUENCE'].fillna(df['TOPIC OF INFLUENCE'].mode()[0], inplace=True)\n",
        "\n",
        "# Print the updated DataFrame\n",
        "print(df.head())"
      ],
      "metadata": {
        "colab": {
          "base_uri": "https://localhost:8080/"
        },
        "id": "gsZvK7_TUuvy",
        "outputId": "cc0a0df0-feb1-4fe2-8678-63d585089d1d"
      },
      "execution_count": 29,
      "outputs": [
        {
          "output_type": "stream",
          "name": "stdout",
          "text": [
            "             Channel Name             Channel ID  #   FOLLOWERS          ER  \\\n",
            "0              Toni Kroos              toni.kr8s  1  44600000.0  332.835821   \n",
            "1             Mesut Özil           m10_official  2  27400000.0  334.146341   \n",
            "2            lena mantler                   lena  3  21100000.0  334.920635   \n",
            "3                Mahe Man          mahnaz_afshar  4  18600000.0  332.142857   \n",
            "4  Bastian Schweinsteiger  bastianschweinsteiger  5  17200000.0  330.769231   \n",
            "\n",
            "   COUNTRY                 TOPIC OF INFLUENCE  POTENTIAL REACH  \n",
            "0  Germany                      Sports Soccer       13400000.0  \n",
            "1  Germany             Sports Soccer Training        8200000.0  \n",
            "2  Germany            Entertainment and Music        6300000.0  \n",
            "3  Germany  Acting and Drama Celebrity Artist        5600000.0  \n",
            "4  Germany                      Sports Soccer        5200000.0  \n"
          ]
        }
      ]
    },
    {
      "cell_type": "code",
      "source": [
        "# Save the updated DataFrame to a CSV file\n",
        "df.to_csv('Germany_updated_data.csv', index=False)\n",
        "\n",
        "print(\"DataFrame saved to 'Germany_updated_data.csv'\")"
      ],
      "metadata": {
        "colab": {
          "base_uri": "https://localhost:8080/"
        },
        "id": "r0PantkvU7Vq",
        "outputId": "d286eae3-7bcf-4ed0-d62f-802b9b6739ed"
      },
      "execution_count": 30,
      "outputs": [
        {
          "output_type": "stream",
          "name": "stdout",
          "text": [
            "DataFrame saved to 'Germany_updated_data.csv'\n"
          ]
        }
      ]
    },
    {
      "cell_type": "code",
      "source": [],
      "metadata": {
        "id": "qu6Rq5xEVIyM"
      },
      "execution_count": null,
      "outputs": []
    },
    {
      "cell_type": "code",
      "source": [
        "import pandas as pd\n",
        "\n",
        "# Load your dataset (replace 'your_file.csv' with the actual file path)\n",
        "df = pd.read_csv('/content/hongkong_cleaned_data.csv')\n",
        "\n",
        "# Get column names\n",
        "column_names = list(df.columns)\n",
        "print(column_names)"
      ],
      "metadata": {
        "colab": {
          "base_uri": "https://localhost:8080/"
        },
        "id": "IBtYSmBhVJCz",
        "outputId": "930d0e37-f77e-4d30-d49a-82f3ca2eccb4"
      },
      "execution_count": 35,
      "outputs": [
        {
          "output_type": "stream",
          "name": "stdout",
          "text": [
            "['Channel Name', 'Channel ID', '#', 'FOLLOWERS', 'ER', 'COUNTRY', 'TOPIC OF INFLUENCE', 'POTENTIAL REACH']\n"
          ]
        }
      ]
    },
    {
      "cell_type": "code",
      "source": [
        "import pandas as pd\n",
        "\n",
        "file_path = '/content/hongkong_cleaned_data.csv'\n",
        "df = pd.read_csv(file_path)\n",
        "\n",
        "# Check for missing values in essential fields\n",
        "essential_fields = ['Channel Name', 'Channel ID', '#', 'FOLLOWERS', 'ER', 'COUNTRY', 'TOPIC OF INFLUENCE', 'POTENTIAL REACH']  # Replace with actual column names\n",
        "missing_values = df[essential_fields].isnull().sum()\n",
        "\n",
        "# Print the missing values summary\n",
        "print(\"Missing values in essential fields:\\n\", missing_values)"
      ],
      "metadata": {
        "colab": {
          "base_uri": "https://localhost:8080/"
        },
        "id": "UUeunTzAVRPK",
        "outputId": "abfe44df-a280-4bf8-a4a2-c59cd4cd9f04"
      },
      "execution_count": 32,
      "outputs": [
        {
          "output_type": "stream",
          "name": "stdout",
          "text": [
            "Missing values in essential fields:\n",
            " Channel Name          0\n",
            "Channel ID            1\n",
            "#                     0\n",
            "FOLLOWERS             0\n",
            "ER                    0\n",
            "COUNTRY               0\n",
            "TOPIC OF INFLUENCE    7\n",
            "POTENTIAL REACH       0\n",
            "dtype: int64\n"
          ]
        }
      ]
    },
    {
      "cell_type": "code",
      "source": [
        "import pandas as pd\n",
        "\n",
        "# Load your dataset (replace 'your_file.csv' with the actual file path)\n",
        "file_path = '/content/hongkong_cleaned_data.csv'\n",
        "df = pd.read_csv(file_path)\n",
        "\n",
        "# Impute missing values for 'ER' and 'POTENTIAL REACH' using mean\n",
        "df['ER'].fillna(df['ER'].mean(), inplace=True)\n",
        "df['POTENTIAL REACH'].fillna(df['POTENTIAL REACH'].mean(), inplace=True)\n",
        "\n",
        "# Calculate 'ER' based on 'FOLLOWERS' and 'POTENTIAL REACH'\n",
        "df['ER'] = (df['FOLLOWERS'] / df['POTENTIAL REACH']) * 100\n",
        "\n",
        "# Impute missing values in 'TOPIC OF INFLUENCE' using mode\n",
        "df['TOPIC OF INFLUENCE'].fillna(df['TOPIC OF INFLUENCE'].mode()[0], inplace=True)\n",
        "\n",
        "# Print the updated DataFrame\n",
        "print(df.head())"
      ],
      "metadata": {
        "colab": {
          "base_uri": "https://localhost:8080/"
        },
        "id": "rVWZ7hK2VVFV",
        "outputId": "473094ed-1b90-47cb-b117-046efde760c3"
      },
      "execution_count": 33,
      "outputs": [
        {
          "output_type": "stream",
          "name": "stdout",
          "text": [
            "     Channel Name  Channel ID  #   FOLLOWERS          ER    COUNTRY  \\\n",
            "0       Bruce Lee    brucelee  1  11600000.0  331.428571  Hong Kong   \n",
            "1       G.E.M.鄧紫棋     gem0816  2   7500000.0  326.086957  Hong Kong   \n",
            "2  Jackie Chan 成龍  jackiechan  3   5700000.0  335.294118  Hong Kong   \n",
            "3    Maxim Mernes   mernesmax  4   4100000.0  341.666667  Hong Kong   \n",
            "4       Shawn Yue      lok666  5   4100000.0  341.666667  Hong Kong   \n",
            "\n",
            "                                  TOPIC OF INFLUENCE  POTENTIAL REACH  \n",
            "0                     Entertainment and Music Actors        3500000.0  \n",
            "1  Entertainment and Music Music Celebrity Songwr...        2300000.0  \n",
            "2                                    Celebrity Music        1700000.0  \n",
            "3                               Business and Finance        1200000.0  \n",
            "4                               Art Celebrity Actors        1200000.0  \n"
          ]
        }
      ]
    },
    {
      "cell_type": "code",
      "source": [],
      "metadata": {
        "id": "qdSWQ3CCVbkF"
      },
      "execution_count": null,
      "outputs": []
    },
    {
      "cell_type": "code",
      "source": [
        "# Save the updated DataFrame to a CSV file\n",
        "df.to_csv('Hongkong_updated_data.csv', index=False)\n",
        "\n",
        "print(\"DataFrame saved to 'Hongkong_updated_data.csv'\")"
      ],
      "metadata": {
        "colab": {
          "base_uri": "https://localhost:8080/"
        },
        "id": "VATdpORGVf2u",
        "outputId": "661d0c48-40ed-4157-f9b2-8999ac1288b9"
      },
      "execution_count": 34,
      "outputs": [
        {
          "output_type": "stream",
          "name": "stdout",
          "text": [
            "DataFrame saved to 'Hongkong_updated_data.csv'\n"
          ]
        }
      ]
    },
    {
      "cell_type": "code",
      "source": [
        "import pandas as pd\n",
        "\n",
        "# Load your dataset (replace 'your_file.csv' with the actual file path)\n",
        "df = pd.read_csv('/content/india_cleaned_data.csv')\n",
        "\n",
        "# Get column names\n",
        "column_names = list(df.columns)\n",
        "print(column_names)"
      ],
      "metadata": {
        "colab": {
          "base_uri": "https://localhost:8080/"
        },
        "id": "Hm0Ramj6Vlb4",
        "outputId": "5d8910b0-4dad-42b0-f6ec-259320dc0728"
      },
      "execution_count": 36,
      "outputs": [
        {
          "output_type": "stream",
          "name": "stdout",
          "text": [
            "['Channel Name', 'Channel ID', '#', 'FOLLOWERS', 'ER', 'COUNTRY', 'TOPIC OF INFLUENCE', 'POTENTIAL REACH']\n"
          ]
        }
      ]
    },
    {
      "cell_type": "code",
      "source": [
        "import pandas as pd\n",
        "\n",
        "file_path = '/content/india_cleaned_data.csv'\n",
        "df = pd.read_csv(file_path)\n",
        "\n",
        "# Check for missing values in essential fields\n",
        "essential_fields = ['Channel Name', 'Channel ID', '#', 'FOLLOWERS', 'ER', 'COUNTRY', 'TOPIC OF INFLUENCE', 'POTENTIAL REACH']  # Replace with actual column names\n",
        "missing_values = df[essential_fields].isnull().sum()\n",
        "\n",
        "# Print the missing values summary\n",
        "print(\"Missing values in essential fields:\\n\", missing_values)"
      ],
      "metadata": {
        "colab": {
          "base_uri": "https://localhost:8080/"
        },
        "id": "x4DYK66PVySy",
        "outputId": "0d8cdf91-d35b-47dc-92bb-b57e773897a7"
      },
      "execution_count": 37,
      "outputs": [
        {
          "output_type": "stream",
          "name": "stdout",
          "text": [
            "Missing values in essential fields:\n",
            " Channel Name          0\n",
            "Channel ID            1\n",
            "#                     0\n",
            "FOLLOWERS             0\n",
            "ER                    0\n",
            "COUNTRY               0\n",
            "TOPIC OF INFLUENCE    0\n",
            "POTENTIAL REACH       0\n",
            "dtype: int64\n"
          ]
        }
      ]
    },
    {
      "cell_type": "code",
      "source": [
        "import pandas as pd\n",
        "\n",
        "# Load your dataset (replace 'your_file.csv' with the actual file path)\n",
        "file_path = '/content/india_cleaned_data.csv'\n",
        "df = pd.read_csv(file_path)\n",
        "\n",
        "# Impute missing values for 'ER' and 'POTENTIAL REACH' using mean\n",
        "df['ER'].fillna(df['ER'].mean(), inplace=True)\n",
        "df['POTENTIAL REACH'].fillna(df['POTENTIAL REACH'].mean(), inplace=True)\n",
        "\n",
        "# Calculate 'ER' based on 'FOLLOWERS' and 'POTENTIAL REACH'\n",
        "df['ER'] = (df['FOLLOWERS'] / df['POTENTIAL REACH']) * 100\n",
        "\n",
        "# Impute missing values in 'TOPIC OF INFLUENCE' using mode\n",
        "df['TOPIC OF INFLUENCE'].fillna(df['TOPIC OF INFLUENCE'].mode()[0], inplace=True)\n",
        "\n",
        "# Print the updated DataFrame\n",
        "print(df.head())"
      ],
      "metadata": {
        "colab": {
          "base_uri": "https://localhost:8080/"
        },
        "id": "6npBUNVgV2Dw",
        "outputId": "d0d0e880-e89f-461b-dc95-d5d042ed41cb"
      },
      "execution_count": 38,
      "outputs": [
        {
          "output_type": "stream",
          "name": "stdout",
          "text": [
            "     Channel Name       Channel ID  #    FOLLOWERS          ER COUNTRY  \\\n",
            "0     Virat Kohli      virat.kohli  1  267100000.0  333.458177   India   \n",
            "1   Narendra Modi     narendramodi  2   87300000.0  333.206107   India   \n",
            "2    Alia Bhatt 💛       aliaabhatt  3   83700000.0  333.466135   India   \n",
            "3    Katrina Kaif      katrinakaif  4   79700000.0  333.472803   India   \n",
            "4  दीपिका पादुकोण  deepikapadukone  5   78900000.0  332.911392   India   \n",
            "\n",
            "                            TOPIC OF INFLUENCE  POTENTIAL REACH  \n",
            "0                       Sports Cricket Athlete       80100000.0  \n",
            "1                                     Politics       26200000.0  \n",
            "2      Acting and Drama Celebrity Actors Actor       25100000.0  \n",
            "3  Beauty and Self Care Celebrity Actors Actor       23900000.0  \n",
            "4               Entertainment and Music Actors       23700000.0  \n"
          ]
        }
      ]
    },
    {
      "cell_type": "code",
      "source": [
        "# Save the updated DataFrame to a CSV file\n",
        "df.to_csv('India_updated_data.csv', index=False)\n",
        "\n",
        "print(\"DataFrame saved to 'India_updated_data.csv'\")"
      ],
      "metadata": {
        "colab": {
          "base_uri": "https://localhost:8080/"
        },
        "id": "XF89M0HVWRG6",
        "outputId": "59234733-01ca-40da-d6ef-3013a0b94763"
      },
      "execution_count": 39,
      "outputs": [
        {
          "output_type": "stream",
          "name": "stdout",
          "text": [
            "DataFrame saved to 'India_updated_data.csv'\n"
          ]
        }
      ]
    },
    {
      "cell_type": "code",
      "source": [],
      "metadata": {
        "id": "F0E9Ll3fWdNk"
      },
      "execution_count": null,
      "outputs": []
    },
    {
      "cell_type": "code",
      "source": [
        "import pandas as pd\n",
        "\n",
        "# Load your dataset (replace 'your_file.csv' with the actual file path)\n",
        "df = pd.read_csv('/content/italy_cleaned_data.csv')\n",
        "\n",
        "# Get column names\n",
        "column_names = list(df.columns)\n",
        "print(column_names)"
      ],
      "metadata": {
        "colab": {
          "base_uri": "https://localhost:8080/"
        },
        "id": "cT9Mv_C3WdE5",
        "outputId": "3f869133-f958-42bc-e599-0d940fbe19d5"
      },
      "execution_count": 47,
      "outputs": [
        {
          "output_type": "stream",
          "name": "stdout",
          "text": [
            "['#', 'NAME', 'FOLLOWERS', 'ER', 'COUNTRY', 'TOPIC OF INFLUENCE', 'POTENTIAL REACH', 'Channel Name', 'Channel ID']\n"
          ]
        }
      ]
    },
    {
      "cell_type": "code",
      "source": [
        "import pandas as pd\n",
        "\n",
        "file_path = '/content/italy_cleaned_data.csv'\n",
        "df = pd.read_csv(file_path)\n",
        "\n",
        "# Check for missing values in essential fields\n",
        "essential_fields = ['Channel Name', 'Channel ID', '#', 'FOLLOWERS', 'ER', 'COUNTRY', 'TOPIC OF INFLUENCE', 'POTENTIAL REACH']  # Replace with actual column names\n",
        "missing_values = df[essential_fields].isnull().sum()\n",
        "\n",
        "# Print the missing values summary\n",
        "print(\"Missing values in essential fields:\\n\", missing_values)"
      ],
      "metadata": {
        "colab": {
          "base_uri": "https://localhost:8080/"
        },
        "id": "8d7yJumLXQiW",
        "outputId": "36734c02-d454-4f1c-d51d-835f088098ad"
      },
      "execution_count": 48,
      "outputs": [
        {
          "output_type": "stream",
          "name": "stdout",
          "text": [
            "Missing values in essential fields:\n",
            " Channel Name          0\n",
            "Channel ID            0\n",
            "#                     0\n",
            "FOLLOWERS             0\n",
            "ER                    0\n",
            "COUNTRY               0\n",
            "TOPIC OF INFLUENCE    4\n",
            "POTENTIAL REACH       0\n",
            "dtype: int64\n"
          ]
        }
      ]
    },
    {
      "cell_type": "code",
      "source": [
        "import pandas as pd\n",
        "\n",
        "# Load your dataset (replace 'your_file.csv' with the actual file path)\n",
        "file_path = '/content/italy_cleaned_data.csv'\n",
        "df = pd.read_csv(file_path)\n",
        "\n",
        "# Impute missing values for 'ER' and 'POTENTIAL REACH' using mean\n",
        "df['ER'].fillna(df['ER'].mean(), inplace=True)\n",
        "df['POTENTIAL REACH'].fillna(df['POTENTIAL REACH'].mean(), inplace=True)\n",
        "\n",
        "# Calculate 'ER' based on 'FOLLOWERS' and 'POTENTIAL REACH'\n",
        "df['ER'] = (df['FOLLOWERS'] / df['POTENTIAL REACH']) * 100\n",
        "\n",
        "# Impute missing values in 'TOPIC OF INFLUENCE' using mode\n",
        "df['TOPIC OF INFLUENCE'].fillna(df['TOPIC OF INFLUENCE'].mode()[0], inplace=True)\n",
        "\n",
        "# Print the updated DataFrame\n",
        "print(df.head())"
      ],
      "metadata": {
        "colab": {
          "base_uri": "https://localhost:8080/"
        },
        "id": "Gyvf-059WrEP",
        "outputId": "df07e762-95e9-427b-bcb2-be38fc288214"
      },
      "execution_count": 49,
      "outputs": [
        {
          "output_type": "stream",
          "name": "stdout",
          "text": [
            "   #                               NAME   FOLLOWERS          ER COUNTRY  \\\n",
            "0  1              Khabane Lame @khaby00  79700000.0  333.472803   Italy   \n",
            "1  2                 Juventus @juventus  60400000.0  333.701657   Italy   \n",
            "2  3  Chiara Ferragni ✨ @chiaraferragni  29200000.0  331.818182   Italy   \n",
            "3  4    Gianluca Vacchi @gianlucavacchi  22500000.0  330.882353   Italy   \n",
            "4  5      Valentino Rossi @valeyellow46  15800000.0  336.170213   Italy   \n",
            "\n",
            "                                  TOPIC OF INFLUENCE  POTENTIAL REACH  \\\n",
            "0  Entertainment and Music Funny Education Life a...       23900000.0   \n",
            "1   Sports Soccer Sports Team Creators & Celebrities       18100000.0   \n",
            "2  Fashion and Accessories Business and Finance P...        8800000.0   \n",
            "3     Entertainment and Music Parenting Entrepreneur        6800000.0   \n",
            "4             Sports Racing Riders Motorcycle Racing        4700000.0   \n",
            "\n",
            "        Channel Name      Channel ID  \n",
            "0       Khabane Lame         khaby00  \n",
            "1           Juventus        juventus  \n",
            "2  Chiara Ferragni ✨  chiaraferragni  \n",
            "3    Gianluca Vacchi  gianlucavacchi  \n",
            "4    Valentino Rossi    valeyellow46  \n"
          ]
        }
      ]
    },
    {
      "cell_type": "code",
      "source": [
        "# Save the updated DataFrame to a CSV file\n",
        "df.to_csv('Italy_updated_data.csv', index=False)\n",
        "\n",
        "print(\"DataFrame saved to 'Italy_updated_data.csv'\")"
      ],
      "metadata": {
        "colab": {
          "base_uri": "https://localhost:8080/"
        },
        "id": "lCQwvsK1Wxw4",
        "outputId": "7e0ef579-0971-46fe-8f79-73a4da91a43b"
      },
      "execution_count": 50,
      "outputs": [
        {
          "output_type": "stream",
          "name": "stdout",
          "text": [
            "DataFrame saved to 'Italy_updated_data.csv'\n"
          ]
        }
      ]
    },
    {
      "cell_type": "code",
      "source": [],
      "metadata": {
        "id": "EENjTgkgW64G"
      },
      "execution_count": null,
      "outputs": []
    },
    {
      "cell_type": "code",
      "source": [
        "import pandas as pd\n",
        "\n",
        "# Load your dataset (replace 'your_file.csv' with the actual file path)\n",
        "df = pd.read_csv('/content/japan_cleaned_data.csv')\n",
        "\n",
        "# Get column names\n",
        "column_names = list(df.columns)\n",
        "print(column_names)"
      ],
      "metadata": {
        "colab": {
          "base_uri": "https://localhost:8080/"
        },
        "id": "hYuLojWhXAr9",
        "outputId": "f129e7c0-8f4b-4bad-9f75-acb0e9bcf7f3"
      },
      "execution_count": 44,
      "outputs": [
        {
          "output_type": "stream",
          "name": "stdout",
          "text": [
            "['Channel Name', 'Channel ID', '#', 'FOLLOWERS', 'ER', 'COUNTRY', 'TOPIC OF INFLUENCE', 'POTENTIAL REACH']\n"
          ]
        }
      ]
    },
    {
      "cell_type": "code",
      "source": [
        "import pandas as pd\n",
        "\n",
        "file_path = '/content/japan_cleaned_data.csv'\n",
        "df = pd.read_csv(file_path)\n",
        "\n",
        "# Check for missing values in essential fields\n",
        "essential_fields = ['Channel Name', 'Channel ID', '#', 'FOLLOWERS', 'ER', 'COUNTRY', 'TOPIC OF INFLUENCE', 'POTENTIAL REACH']  # Replace with actual column names\n",
        "missing_values = df[essential_fields].isnull().sum()\n",
        "\n",
        "# Print the missing values summary\n",
        "print(\"Missing values in essential fields:\\n\", missing_values)"
      ],
      "metadata": {
        "colab": {
          "base_uri": "https://localhost:8080/"
        },
        "id": "3S-PWyR0XC5y",
        "outputId": "37e0eee4-482e-4559-9a0b-cf456ac67244"
      },
      "execution_count": 51,
      "outputs": [
        {
          "output_type": "stream",
          "name": "stdout",
          "text": [
            "Missing values in essential fields:\n",
            " Channel Name           0\n",
            "Channel ID             0\n",
            "#                      0\n",
            "FOLLOWERS              0\n",
            "ER                     0\n",
            "COUNTRY                0\n",
            "TOPIC OF INFLUENCE    15\n",
            "POTENTIAL REACH        0\n",
            "dtype: int64\n"
          ]
        }
      ]
    },
    {
      "cell_type": "code",
      "source": [
        "import pandas as pd\n",
        "\n",
        "# Load your dataset (replace 'your_file.csv' with the actual file path)\n",
        "file_path = '/content/japan_cleaned_data.csv'\n",
        "df = pd.read_csv(file_path)\n",
        "\n",
        "# Impute missing values for 'ER' and 'POTENTIAL REACH' using mean\n",
        "df['ER'].fillna(df['ER'].mean(), inplace=True)\n",
        "df['POTENTIAL REACH'].fillna(df['POTENTIAL REACH'].mean(), inplace=True)\n",
        "\n",
        "# Calculate 'ER' based on 'FOLLOWERS' and 'POTENTIAL REACH'\n",
        "df['ER'] = (df['FOLLOWERS'] / df['POTENTIAL REACH']) * 100\n",
        "\n",
        "# Impute missing values in 'TOPIC OF INFLUENCE' using mode\n",
        "df['TOPIC OF INFLUENCE'].fillna(df['TOPIC OF INFLUENCE'].mode()[0], inplace=True)\n",
        "\n",
        "# Print the updated DataFrame\n",
        "print(df.head())"
      ],
      "metadata": {
        "colab": {
          "base_uri": "https://localhost:8080/"
        },
        "id": "j6klGbEmXf-K",
        "outputId": "501e11ae-a5c4-4f41-ed0f-095073a31ef6"
      },
      "execution_count": 56,
      "outputs": [
        {
          "output_type": "stream",
          "name": "stdout",
          "text": [
            "      Channel Name   Channel ID  #   FOLLOWERS          ER COUNTRY  \\\n",
            "0    Siew Pui Yi 🤍     ms_puiyi  1  22100000.0  334.848485   Japan   \n",
            "1        모모 (MOMO)         momo  2  14500000.0  337.209302   Japan   \n",
            "2    Nadine Lustre       nadine  3  12700000.0  334.210526   Japan   \n",
            "3          사나 𝚂𝚊𝚗𝚊   m.by__sana  4  11600000.0  331.428571   Japan   \n",
            "4  Sakura Miyawaki  39saku_chan  5  10800000.0  327.272727   Japan   \n",
            "\n",
            "                               TOPIC OF INFLUENCE  POTENTIAL REACH  \n",
            "0  Art Entertainment and Music Celebrity Modeling        6600000.0  \n",
            "1                         Entertainment and Music        4300000.0  \n",
            "2   Fashion and Accessories Singer Music TV Shows        3800000.0  \n",
            "3                         Entertainment and Music        3500000.0  \n",
            "4                         Entertainment and Music        3300000.0  \n"
          ]
        }
      ]
    },
    {
      "cell_type": "code",
      "source": [
        "# Save the updated DataFrame to a CSV file\n",
        "df.to_csv('japan_updated_data.csv', index=False)\n",
        "\n",
        "print(\"DataFrame saved to 'japan_updated_data.csv'\")"
      ],
      "metadata": {
        "colab": {
          "base_uri": "https://localhost:8080/"
        },
        "id": "lg8fgNDRXlcY",
        "outputId": "6e1c9811-e5da-4082-c93e-05f5a5339651"
      },
      "execution_count": 55,
      "outputs": [
        {
          "output_type": "stream",
          "name": "stdout",
          "text": [
            "DataFrame saved to 'japan_updated_data.csv'\n"
          ]
        }
      ]
    },
    {
      "cell_type": "code",
      "source": [
        "import pandas as pd\n",
        "\n",
        "# Load your dataset (replace 'your_file.csv' with the actual file path)\n",
        "df = pd.read_csv('/content/southafrica_cleaned_data.csv')\n",
        "\n",
        "# Get column names\n",
        "column_names = list(df.columns)\n",
        "print(column_names)"
      ],
      "metadata": {
        "colab": {
          "base_uri": "https://localhost:8080/"
        },
        "id": "vPj6JB1aX-to",
        "outputId": "aba1aac5-296e-4665-c6be-23a706597ee8"
      },
      "execution_count": 57,
      "outputs": [
        {
          "output_type": "stream",
          "name": "stdout",
          "text": [
            "['Channel Name', 'Channel ID', '#', 'FOLLOWERS', 'ER', 'COUNTRY', 'TOPIC OF INFLUENCE', 'POTENTIAL REACH']\n"
          ]
        }
      ]
    },
    {
      "cell_type": "code",
      "source": [
        "import pandas as pd\n",
        "\n",
        "file_path = '/content/southafrica_cleaned_data.csv'\n",
        "df = pd.read_csv(file_path)\n",
        "\n",
        "# Check for missing values in essential fields\n",
        "essential_fields = ['Channel Name', 'Channel ID', '#', 'FOLLOWERS', 'ER', 'COUNTRY', 'TOPIC OF INFLUENCE', 'POTENTIAL REACH']  # Replace with actual column names\n",
        "missing_values = df[essential_fields].isnull().sum()\n",
        "\n",
        "# Print the missing values summary\n",
        "print(\"Missing values in essential fields:\\n\", missing_values)"
      ],
      "metadata": {
        "colab": {
          "base_uri": "https://localhost:8080/"
        },
        "id": "9og6VSofYVYP",
        "outputId": "d90e6452-0368-412d-960a-f65f70261d6d"
      },
      "execution_count": 58,
      "outputs": [
        {
          "output_type": "stream",
          "name": "stdout",
          "text": [
            "Missing values in essential fields:\n",
            " Channel Name          0\n",
            "Channel ID            1\n",
            "#                     0\n",
            "FOLLOWERS             0\n",
            "ER                    0\n",
            "COUNTRY               0\n",
            "TOPIC OF INFLUENCE    2\n",
            "POTENTIAL REACH       0\n",
            "dtype: int64\n"
          ]
        }
      ]
    },
    {
      "cell_type": "code",
      "source": [
        "import pandas as pd\n",
        "\n",
        "# Load your dataset (replace 'your_file.csv' with the actual file path)\n",
        "file_path = '/content/southafrica_cleaned_data.csv'\n",
        "df = pd.read_csv(file_path)\n",
        "\n",
        "# Impute missing values for 'ER' and 'POTENTIAL REACH' using mean\n",
        "df['ER'].fillna(df['ER'].mean(), inplace=True)\n",
        "df['POTENTIAL REACH'].fillna(df['POTENTIAL REACH'].mean(), inplace=True)\n",
        "\n",
        "# Calculate 'ER' based on 'FOLLOWERS' and 'POTENTIAL REACH'\n",
        "df['ER'] = (df['FOLLOWERS'] / df['POTENTIAL REACH']) * 100\n",
        "\n",
        "# Impute missing values in 'TOPIC OF INFLUENCE' using mode\n",
        "df['TOPIC OF INFLUENCE'].fillna(df['TOPIC OF INFLUENCE'].mode()[0], inplace=True)\n",
        "\n",
        "# Print the updated DataFrame\n",
        "print(df.head())"
      ],
      "metadata": {
        "colab": {
          "base_uri": "https://localhost:8080/"
        },
        "id": "LL_A2SwIYYWf",
        "outputId": "9390c8bd-dce1-4cd8-c82f-cbb6d62ae306"
      },
      "execution_count": 59,
      "outputs": [
        {
          "output_type": "stream",
          "name": "stdout",
          "text": [
            "        Channel Name      Channel ID  #   FOLLOWERS          ER       COUNTRY  \\\n",
            "0     AB de Villiers  abdevilliers17  1  24300000.0  332.876712  South Africa   \n",
            "1     Dean Schneider  dean.schneider  2  11000000.0  333.333333  South Africa   \n",
            "2        Trevor Noah      trevornoah  3   8900000.0  329.629630  South Africa   \n",
            "3        Boity Thulo           boity  4   6300000.0  331.578947  South Africa   \n",
            "4  Refiloe Phoolo 🇿🇦  casspernyovest  5   6200000.0  326.315789  South Africa   \n",
            "\n",
            "                                  TOPIC OF INFLUENCE  POTENTIAL REACH  \n",
            "0                                     Sports Cricket        7300000.0  \n",
            "1                                      Animals Music        3300000.0  \n",
            "2  Entertainment and Music Celebrity Modeling Ent...        2700000.0  \n",
            "3  Entertainment and Music Fashion and Accessorie...        1900000.0  \n",
            "4     Entertainment and Music Sports Celebrity Music        1900000.0  \n"
          ]
        }
      ]
    },
    {
      "cell_type": "code",
      "source": [
        "# Save the updated DataFrame to a CSV file\n",
        "df.to_csv('southafrica_updated_data.csv', index=False)\n",
        "\n",
        "print(\"DataFrame saved to 'southafrica_updated_data.csv'\")"
      ],
      "metadata": {
        "colab": {
          "base_uri": "https://localhost:8080/"
        },
        "id": "W_QbK9-AYem6",
        "outputId": "a643938c-27ec-4367-ecc1-915d15919d50"
      },
      "execution_count": 60,
      "outputs": [
        {
          "output_type": "stream",
          "name": "stdout",
          "text": [
            "DataFrame saved to 'southafrica_updated_data.csv'\n"
          ]
        }
      ]
    },
    {
      "cell_type": "code",
      "source": [
        "import pandas as pd\n",
        "\n",
        "# Load your dataset (replace 'your_file.csv' with the actual file path)\n",
        "df = pd.read_csv('/content/uk_cleaned_data.csv')\n",
        "\n",
        "# Get column names\n",
        "column_names = list(df.columns)\n",
        "print(column_names)"
      ],
      "metadata": {
        "colab": {
          "base_uri": "https://localhost:8080/"
        },
        "id": "EGYzlSoFYoPU",
        "outputId": "ccf75d68-e81a-49d0-872c-0305989de00f"
      },
      "execution_count": 61,
      "outputs": [
        {
          "output_type": "stream",
          "name": "stdout",
          "text": [
            "['Channel Name', 'Channel ID', '#', 'FOLLOWERS', 'ER', 'COUNTRY', 'TOPIC OF INFLUENCE', 'POTENTIAL REACH']\n"
          ]
        }
      ]
    },
    {
      "cell_type": "code",
      "source": [
        "import pandas as pd\n",
        "\n",
        "file_path = '/content/uk_cleaned_data.csv'\n",
        "df = pd.read_csv(file_path)\n",
        "\n",
        "# Check for missing values in essential fields\n",
        "essential_fields = ['Channel Name', 'Channel ID', '#', 'FOLLOWERS', 'ER', 'COUNTRY', 'TOPIC OF INFLUENCE', 'POTENTIAL REACH']  # Replace with actual column names\n",
        "missing_values = df[essential_fields].isnull().sum()\n",
        "\n",
        "# Print the missing values summary\n",
        "print(\"Missing values in essential fields:\\n\", missing_values)"
      ],
      "metadata": {
        "colab": {
          "base_uri": "https://localhost:8080/"
        },
        "id": "t6nBg3hIY0pL",
        "outputId": "6adbcde0-d335-4164-d839-043d5bf6d357"
      },
      "execution_count": 62,
      "outputs": [
        {
          "output_type": "stream",
          "name": "stdout",
          "text": [
            "Missing values in essential fields:\n",
            " Channel Name          0\n",
            "Channel ID            0\n",
            "#                     0\n",
            "FOLLOWERS             0\n",
            "ER                    0\n",
            "COUNTRY               0\n",
            "TOPIC OF INFLUENCE    2\n",
            "POTENTIAL REACH       0\n",
            "dtype: int64\n"
          ]
        }
      ]
    },
    {
      "cell_type": "code",
      "source": [
        "import pandas as pd\n",
        "\n",
        "# Load your dataset (replace 'your_file.csv' with the actual file path)\n",
        "file_path = '/content/uk_cleaned_data.csv'\n",
        "df = pd.read_csv(file_path)\n",
        "\n",
        "# Impute missing values for 'ER' and 'POTENTIAL REACH' using mean\n",
        "df['ER'].fillna(df['ER'].mean(), inplace=True)\n",
        "df['POTENTIAL REACH'].fillna(df['POTENTIAL REACH'].mean(), inplace=True)\n",
        "\n",
        "# Calculate 'ER' based on 'FOLLOWERS' and 'POTENTIAL REACH'\n",
        "df['ER'] = (df['FOLLOWERS'] / df['POTENTIAL REACH']) * 100\n",
        "\n",
        "# Impute missing values in 'TOPIC OF INFLUENCE' using mode\n",
        "df['TOPIC OF INFLUENCE'].fillna(df['TOPIC OF INFLUENCE'].mode()[0], inplace=True)\n",
        "\n",
        "# Print the updated DataFrame\n",
        "print(df.head())"
      ],
      "metadata": {
        "colab": {
          "base_uri": "https://localhost:8080/"
        },
        "id": "Z6NuQHrJY73N",
        "outputId": "b0ac98dc-84d5-417c-90f3-2981996c1784"
      },
      "execution_count": 63,
      "outputs": [
        {
          "output_type": "stream",
          "name": "stdout",
          "text": [
            "         Channel Name        Channel ID  #   FOLLOWERS          ER  \\\n",
            "0       David Beckham      davidbeckham  1  87000000.0  333.333333   \n",
            "1         Emma Watson        emmawatson  2  75400000.0  333.628319   \n",
            "2         Tom Holland    tomholland2013  3  66500000.0  334.170854   \n",
            "3  Millie Bobby Brown  milliebobbybrown  4  63300000.0  333.157895   \n",
            "4               Adele             adele  5  55900000.0  332.738095   \n",
            "\n",
            "          COUNTRY                                 TOPIC OF INFLUENCE  \\\n",
            "0  United Kingdom                        Sports Soccer Public Figure   \n",
            "1  United Kingdom  Entertainment and Music Fashion and Accessorie...   \n",
            "2  United Kingdom    Entertainment and Music Acting and Drama Actors   \n",
            "3  United Kingdom                                   Celebrity Actors   \n",
            "4  United Kingdom                                       Singer Music   \n",
            "\n",
            "   POTENTIAL REACH  \n",
            "0       26100000.0  \n",
            "1       22600000.0  \n",
            "2       19900000.0  \n",
            "3       19000000.0  \n",
            "4       16800000.0  \n"
          ]
        }
      ]
    },
    {
      "cell_type": "code",
      "source": [
        "# Save the updated DataFrame to a CSV file\n",
        "df.to_csv('uk_updated_data.csv', index=False)\n",
        "\n",
        "print(\"DataFrame saved to 'uk_updated_data.csv'\")"
      ],
      "metadata": {
        "colab": {
          "base_uri": "https://localhost:8080/"
        },
        "id": "tMB87PoZZCDu",
        "outputId": "436a659b-4542-46e3-f9ea-d723f874041a"
      },
      "execution_count": 64,
      "outputs": [
        {
          "output_type": "stream",
          "name": "stdout",
          "text": [
            "DataFrame saved to 'uk_updated_data.csv'\n"
          ]
        }
      ]
    },
    {
      "cell_type": "code",
      "source": [
        "import pandas as pd\n",
        "\n",
        "# Load your dataset (replace 'your_file.csv' with the actual file path)\n",
        "df = pd.read_csv('/content/usa_cleaned_data.csv')\n",
        "\n",
        "# Get column names\n",
        "column_names = list(df.columns)\n",
        "print(column_names)"
      ],
      "metadata": {
        "colab": {
          "base_uri": "https://localhost:8080/"
        },
        "id": "nTAY7gwfZJ8e",
        "outputId": "6f375bda-10f1-42a5-93c4-098d3b5b3811"
      },
      "execution_count": 65,
      "outputs": [
        {
          "output_type": "stream",
          "name": "stdout",
          "text": [
            "['Channel Name', 'Channel ID', '#', 'FOLLOWERS', 'ER', 'COUNTRY', 'TOPIC OF INFLUENCE', 'POTENTIAL REACH']\n"
          ]
        }
      ]
    },
    {
      "cell_type": "code",
      "source": [
        "import pandas as pd\n",
        "\n",
        "file_path = '/content/usa_cleaned_data.csv'\n",
        "df = pd.read_csv(file_path)\n",
        "\n",
        "# Check for missing values in essential fields\n",
        "essential_fields = ['Channel Name', 'Channel ID', '#', 'FOLLOWERS', 'ER', 'COUNTRY', 'TOPIC OF INFLUENCE', 'POTENTIAL REACH']  # Replace with actual column names\n",
        "missing_values = df[essential_fields].isnull().sum()\n",
        "\n",
        "# Print the missing values summary\n",
        "print(\"Missing values in essential fields:\\n\", missing_values)"
      ],
      "metadata": {
        "colab": {
          "base_uri": "https://localhost:8080/"
        },
        "id": "uvfWVMvjZUMv",
        "outputId": "80523b35-0722-4fdc-a888-f21891a9f694"
      },
      "execution_count": 66,
      "outputs": [
        {
          "output_type": "stream",
          "name": "stdout",
          "text": [
            "Missing values in essential fields:\n",
            " Channel Name          0\n",
            "Channel ID            0\n",
            "#                     0\n",
            "FOLLOWERS             0\n",
            "ER                    0\n",
            "COUNTRY               0\n",
            "TOPIC OF INFLUENCE    1\n",
            "POTENTIAL REACH       0\n",
            "dtype: int64\n"
          ]
        }
      ]
    },
    {
      "cell_type": "code",
      "source": [
        "import pandas as pd\n",
        "\n",
        "# Load your dataset (replace 'your_file.csv' with the actual file path)\n",
        "file_path = '/content/usa_cleaned_data.csv'\n",
        "df = pd.read_csv(file_path)\n",
        "\n",
        "# Impute missing values for 'ER' and 'POTENTIAL REACH' using mean\n",
        "df['ER'].fillna(df['ER'].mean(), inplace=True)\n",
        "df['POTENTIAL REACH'].fillna(df['POTENTIAL REACH'].mean(), inplace=True)\n",
        "\n",
        "# Calculate 'ER' based on 'FOLLOWERS' and 'POTENTIAL REACH'\n",
        "df['ER'] = (df['FOLLOWERS'] / df['POTENTIAL REACH']) * 100\n",
        "\n",
        "# Impute missing values in 'TOPIC OF INFLUENCE' using mode\n",
        "df['TOPIC OF INFLUENCE'].fillna(df['TOPIC OF INFLUENCE'].mode()[0], inplace=True)\n",
        "\n",
        "# Print the updated DataFrame\n",
        "print(df.head())"
      ],
      "metadata": {
        "colab": {
          "base_uri": "https://localhost:8080/"
        },
        "id": "-Rd6XAcYZcWZ",
        "outputId": "b5103f28-675c-4045-854e-285af45ce322"
      },
      "execution_count": 67,
      "outputs": [
        {
          "output_type": "stream",
          "name": "stdout",
          "text": [
            "     Channel Name     Channel ID  #    FOLLOWERS          ER        COUNTRY  \\\n",
            "0    Selena Gomez    selenagomez  1  429700000.0  333.359193  United States   \n",
            "1           Kylie    kyliejenner  2  400500000.0  333.472107  United States   \n",
            "2  Dwayne Johnson        therock  3  397800000.0  333.445096  United States   \n",
            "3   Ariana Grande   arianagrande  4  380300000.0  333.304119  United States   \n",
            "4  Kim Kardashian  kimkardashian  5  364300000.0  333.302836  United States   \n",
            "\n",
            "                                  TOPIC OF INFLUENCE  POTENTIAL REACH  \n",
            "0  Beauty and Self Care Entertainment and Music M...      128900000.0  \n",
            "1  Beauty and Self Care Product Showcase Modeling...      120100000.0  \n",
            "2       Entertainment and Music Actors Public Figure      119300000.0  \n",
            "3        Entertainment and Music Music Singer Actors      114100000.0  \n",
            "4  Fashion and Accessories Beauty and Self Care A...      109300000.0  \n"
          ]
        }
      ]
    },
    {
      "cell_type": "code",
      "source": [
        "# Save the updated DataFrame to a CSV file\n",
        "df.to_csv('usa_updated_data.csv', index=False)\n",
        "\n",
        "print(\"DataFrame saved to 'usa_updated_data.csv'\")"
      ],
      "metadata": {
        "colab": {
          "base_uri": "https://localhost:8080/"
        },
        "id": "pySMyqofZn-S",
        "outputId": "5eda6be2-d0f0-4a3e-ebf1-2b2c541f869b"
      },
      "execution_count": 68,
      "outputs": [
        {
          "output_type": "stream",
          "name": "stdout",
          "text": [
            "DataFrame saved to 'usa_updated_data.csv'\n"
          ]
        }
      ]
    },
    {
      "cell_type": "code",
      "source": [],
      "metadata": {
        "id": "EQqHl0tmZ00H"
      },
      "execution_count": null,
      "outputs": []
    }
  ]
}